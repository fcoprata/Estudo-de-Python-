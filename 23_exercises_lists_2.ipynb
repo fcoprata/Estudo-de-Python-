{
 "cells": [
  {
   "cell_type": "code",
   "execution_count": 6,
   "id": "23c976d9",
   "metadata": {},
   "outputs": [
    {
     "name": "stdout",
     "output_type": "stream",
     "text": [
      "Digite o nome do usuário: Joao\n",
      "Digite o peso do usuário: 80\n",
      "Você deseja continuar? [S/N]: s\n",
      "Digite o nome do usuário: maria\n",
      "Digite o peso do usuário: 40\n",
      "Você deseja continuar? [S/N]: n\n",
      "[['Joao', 80.0], ['maria', 40.0]]\n",
      "Foram cadastradas 2 pessoas\n",
      "A pessoa mais leve é 40.0\n",
      "A pessoa mais pesada é 80.0\n"
     ]
    }
   ],
   "source": [
    "# Faça um programa que leia nome e peso de várias pessoas, guardando tudo em uma lista.\n",
    "# No final, mostre:\n",
    "#     Quantas pessoas foram cadastradas;\n",
    "#     Uma listagem com as pessoas mais pesadas;\n",
    "#     Uma listagem com as pessoas mais leves.\n",
    "\n",
    "pessoas = list()\n",
    "dados = list()\n",
    "tot = 0\n",
    "while True:\n",
    "    nome = input('Digite o nome do usuário: ')\n",
    "    peso = float(input('Digite o peso do usuário: '))\n",
    "    dados.append(nome)\n",
    "    dados.append(peso)\n",
    "    pessoas.append(dados[:])\n",
    "    dados.clear()\n",
    "    if tot == 0:\n",
    "        maior = peso\n",
    "        menor = peso\n",
    "    else:\n",
    "        if peso > maior:\n",
    "            maior = peso\n",
    "        elif peso < menor:\n",
    "            menor = peso\n",
    "    tot += 1\n",
    "    esc = input('Você deseja continuar? [S/N]: ').upper()\n",
    "    if esc == 'S':\n",
    "        continue\n",
    "    elif esc == 'N':\n",
    "        break\n",
    "    else:\n",
    "        esc = input('Você deseja continuar? [S/N]: ').upper()\n",
    "\n",
    "print(pessoas)\n",
    "print(f'Foram cadastradas {tot} pessoas')\n",
    "print(f'A pessoa mais leve é {menor}')\n",
    "print(f'A pessoa mais pesada é {maior}')"
   ]
  },
  {
   "cell_type": "code",
   "execution_count": 31,
   "id": "1cb49f87",
   "metadata": {},
   "outputs": [
    {
     "name": "stdout",
     "output_type": "stream",
     "text": [
      "Digite um número: 37\n",
      "Digite um número: 29\n",
      "Digite um número: 17\n",
      "Digite um número: 14\n",
      "Digite um número: 1000\n",
      "Digite um número: 27\n",
      "Digite um número: 89\n",
      "Os números pares são [14, 1000], e os números impares são [17, 27, 29, 37, 89]\n"
     ]
    }
   ],
   "source": [
    "# Crie um programa onde o usuário possa digitar sete valores numéricos\n",
    "# e cadastre-os em uma lista única que mantenha separados os valores\n",
    "# pares e ímpares. No final, mostre os valores pares e ímpares em ordem crescente.\n",
    "\n",
    "valores = list()\n",
    "par = list()\n",
    "impar = list()\n",
    "\n",
    "for n in range(0,7):\n",
    "    num = int(input('Digite um número: '))\n",
    "    \n",
    "    if num % 2 == 0:\n",
    "        par.append(num)  \n",
    "    elif num % 2 != 0:\n",
    "        impar.append(num)\n",
    "        \n",
    "par.sort()\n",
    "valores.append(par[:])\n",
    "par.clear()\n",
    "impar.sort()\n",
    "valores.append(impar[:])\n",
    "impar.clear()\n",
    "    \n",
    "print(f'Os números pares são {valores[0]}, e os números impares são {valores[1]}')\n",
    "\n",
    "    "
   ]
  },
  {
   "cell_type": "code",
   "execution_count": 20,
   "id": "a0d42510",
   "metadata": {},
   "outputs": [
    {
     "name": "stdout",
     "output_type": "stream",
     "text": [
      "Digite o valor da posição [0, 0]: 1\n",
      "Digite o valor da posição [0, 1]: 2\n",
      "Digite o valor da posição [0, 2]: 3\n",
      "Digite o valor da posição [1, 0]: 4\n",
      "Digite o valor da posição [1, 1]: 5\n",
      "Digite o valor da posição [1, 2]: 6\n",
      "Digite o valor da posição [2, 0]: 7\n",
      "Digite o valor da posição [2, 1]: 8\n",
      "Digite o valor da posição [2, 2]: 9\n",
      "[  1  ][  2  ][  3  ]\n",
      "[  4  ][  5  ][  6  ]\n",
      "[  7  ][  8  ][  9  ]\n"
     ]
    }
   ],
   "source": [
    "# Crie um programa que crie uma matriz de dimensão 3x3 e preencha\n",
    "# com valores lidos pelo teclado. No final, mostre a matriz na tela,\n",
    "# a formatação correta.\n",
    "\n",
    "matriz = [[0, 0, 0], [0, 0, 0], [0, 0, 0]]\n",
    "\n",
    "for l in range(0,3):\n",
    "    for c in range(0,3):\n",
    "        matriz[l][c] = int(input(f'Digite o valor da posição [{l}, {c}]: '))\n",
    "for l in range(0,3):\n",
    "    for c in range(0,3):\n",
    "        print(f'[{matriz[l][c]:^5}]', end='')\n",
    "    print()\n"
   ]
  },
  {
   "cell_type": "code",
   "execution_count": 22,
   "id": "ebd63547",
   "metadata": {},
   "outputs": [
    {
     "name": "stdout",
     "output_type": "stream",
     "text": [
      "Digite o valor da posição [0, 0]: 1\n",
      "Digite o valor da posição [0, 1]: 2\n",
      "Digite o valor da posição [0, 2]: 3\n",
      "Digite o valor da posição [1, 0]: 4\n",
      "Digite o valor da posição [1, 1]: 5\n",
      "Digite o valor da posição [1, 2]: 6\n",
      "Digite o valor da posição [2, 0]: 7\n",
      "Digite o valor da posição [2, 1]: 8\n",
      "Digite o valor da posição [2, 2]: 9\n",
      "[  1  ][  2  ][  3  ]\n",
      "[  4  ][  5  ][  6  ]\n",
      "[  7  ][  8  ][  9  ]\n",
      "A soma de todos os valores pares é 20\n",
      "A soma dos valores da terceira coluna é 18\n",
      "O maior valor da segunda linha é 6\n"
     ]
    }
   ],
   "source": [
    "# Aprimora o desafio anterior, mostrando no final:\n",
    "#     A soma de todos os valores pares digitados;\n",
    "#     A soma dos valores da terceira coluna;\n",
    "#     O maior valor da segunda linha.\n",
    "\n",
    "matriz = [[0, 0, 0], [0, 0, 0], [0, 0, 0]]\n",
    "sumpar = 0\n",
    "sumcol = 0\n",
    "maior = 0\n",
    "\n",
    "for l in range(0,3):\n",
    "    for c in range(0,3):\n",
    "        matriz[l][c] = int(input(f'Digite o valor da posição [{l}, {c}]: '))\n",
    "        if matriz[l][c] % 2 == 0:\n",
    "            sumpar += matriz[l][c]\n",
    "        if c == 2:\n",
    "            sumcol += matriz[l][c]\n",
    "        if l == 1:\n",
    "            if c == 0:\n",
    "                maior = matriz[l][c]\n",
    "            elif matriz[l][c] > maior:\n",
    "                maior = matriz[l][c]\n",
    "for l in range(0,3):\n",
    "    for c in range(0,3):\n",
    "        print(f'[{matriz[l][c]:^5}]', end='')\n",
    "    print()\n",
    "print(f'A soma de todos os valores pares é {sumpar}')\n",
    "print(f'A soma dos valores da terceira coluna é {sumcol}')\n",
    "print(f'O maior valor da segunda linha é {maior}')\n"
   ]
  },
  {
   "cell_type": "code",
   "execution_count": 18,
   "id": "9d93993a",
   "metadata": {},
   "outputs": [
    {
     "name": "stdout",
     "output_type": "stream",
     "text": [
      "Quantos jogos você deseja fazer? 4\n",
      "1° jogo [[39, 3, 30, 6, 39, 24]]\n",
      "2° jogo [[28, 42, 54, 3, 17, 48]]\n",
      "3° jogo [[58, 48, 20, 58, 2, 9]]\n",
      "4° jogo [[0, 1, 41, 19, 57, 8]]\n"
     ]
    }
   ],
   "source": [
    "# Faça um programa que ajude um jogador da MEGA SENA a criar palpites.\n",
    "# O programa vai perguntar quantos jogos serão gerados e vai sortear\n",
    "# 6 números entre 1 e 60 para cada jogo para cada jogo, cadastrado\n",
    "# tudo em uma lista composta.\n",
    "import random\n",
    "valores = list()\n",
    "num = list()\n",
    "jogos = int(input('Quantos jogos você deseja fazer? '))\n",
    "\n",
    "for p in range(jogos):\n",
    "    for n in range(0,6):\n",
    "        if n == 0:\n",
    "            num.append(random.randint(0,60))\n",
    "        elif random.randint(0,60) not in num:\n",
    "            num.append(random.randint(0,60))\n",
    "    valores.append(num[:])\n",
    "    num.clear()\n",
    "    print(f'{p+1}° jogo {valores}')\n",
    "    valores.clear()\n",
    "    \n"
   ]
  },
  {
   "cell_type": "code",
   "execution_count": 23,
   "id": "056d4980",
   "metadata": {},
   "outputs": [
    {
     "name": "stdout",
     "output_type": "stream",
     "text": [
      "Nome: João\n",
      "Nota 1: 10\n",
      "Nota 2: 10\n",
      "Deseja continuar? [S/N]: s\n",
      "Nome: Claudio\n",
      "Nota 1: 5\n",
      "Nota 2: 7\n",
      "Deseja continuar? [S/N]: n\n",
      "------------------------------\n",
      "N°  NOME         MÉDIA\n",
      "0   João          10.0\n",
      "1   Claudio        6.0\n",
      "Mostrar notas de qual aluno? (999 interrompe): 1\n",
      "Notas de Claudio são [5.0, 7.0]\n",
      "Mostrar notas de qual aluno? (999 interrompe): 0\n",
      "Notas de João são [10.0, 10.0]\n",
      "Mostrar notas de qual aluno? (999 interrompe): 999\n",
      "Finalizando...\n"
     ]
    }
   ],
   "source": [
    "# Crie um programa que leia nome e duas notas de vários alunos e guarde tudo\n",
    "# em uma lista composta. No final, mostre um boletim contendo a média de cada\n",
    "# um permita que o usuário possa mostrar as nostas de cada aluno individualmente.\n",
    "\n",
    "ficha = list()\n",
    "while True:\n",
    "    nome = input('Nome: ')\n",
    "    nota1 = float(input('Nota 1: '))\n",
    "    nota2 = float(input('Nota 2: '))\n",
    "    media = (nota1 + nota2) / 2\n",
    "    ficha.append([nome, [nota1, nota2], media])\n",
    "    esc = input('Deseja continuar? [S/N]: ').upper()\n",
    "    if esc == 'N':\n",
    "        break\n",
    "print('-' * 30)\n",
    "print(f'{\"N°\":<4}{\"NOME\":<10}{\"MÉDIA\":>8}')\n",
    "for i, a in enumerate(ficha):\n",
    "    print(f'{i:<4}{a[0]:<10}{a[2]:>8.1f}')\n",
    "while True:\n",
    "    opc = int(input('Mostrar notas de qual aluno? (999 interrompe): '))\n",
    "    if opc == 999:\n",
    "        print('Finalizando...')\n",
    "        break\n",
    "    if opc <= len(ficha) - 1:\n",
    "        print(f'Notas de {ficha[opc][0]} são {ficha[opc][1]}')"
   ]
  },
  {
   "cell_type": "code",
   "execution_count": null,
   "id": "ac536696",
   "metadata": {},
   "outputs": [],
   "source": []
  }
 ],
 "metadata": {
  "kernelspec": {
   "display_name": "Python 3",
   "language": "python",
   "name": "python3"
  },
  "language_info": {
   "codemirror_mode": {
    "name": "ipython",
    "version": 3
   },
   "file_extension": ".py",
   "mimetype": "text/x-python",
   "name": "python",
   "nbconvert_exporter": "python",
   "pygments_lexer": "ipython3",
   "version": "3.8.8"
  }
 },
 "nbformat": 4,
 "nbformat_minor": 5
}
