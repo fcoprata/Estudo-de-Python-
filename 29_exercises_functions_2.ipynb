{
 "cells": [
  {
   "cell_type": "code",
   "execution_count": 5,
   "metadata": {},
   "outputs": [
    {
     "data": {
      "text/plain": [
       "'Com 24 o voto é obrigatório'"
      ]
     },
     "execution_count": 5,
     "metadata": {},
     "output_type": "execute_result"
    }
   ],
   "source": [
    "# Crie um programa que tenha uma função chamada voto() que vai receber como parâmetro o ano de nascimento\n",
    "# de uma pessoa, retornando um valor literal indicando se uma pessoa tem voto negado, opcional ou obrigatório\n",
    "# nas eleições com base nas idades.\n",
    "\n",
    "from datetime import date\n",
    "\n",
    "def voto(ano):\n",
    "    atual = date.today().year\n",
    "    idade = atual - ano\n",
    "    if idade < 16:\n",
    "        return f'Com {idade} não pode votar'\n",
    "    elif idade >= 18 or idade < 65:\n",
    "        return f'Com {idade} o voto é obrigatório'\n",
    "    elif 16 <= idade < 18 or idade > 65:\n",
    "        return f'Com {idade} o voto é opcional'\n",
    "\n",
    "nascimento = int(input('Digite o ano do seu nascimento: '))\n",
    "voto(nascimento)\n"
   ]
  },
  {
   "cell_type": "code",
   "execution_count": 26,
   "metadata": {},
   "outputs": [
    {
     "name": "stdout",
     "output_type": "stream",
     "text": [
      "120\n"
     ]
    }
   ],
   "source": [
    "# Crie um programa que tenha uma função fatorial() que receba dois parâmetros: o primeiro que indique o\n",
    "# número a calcular e o outro chamado show, que será um valor lógico (opcional) indicando se será mostrado\n",
    "# ou não na telao processo de cálculo fatorial.\n",
    "\n",
    "\n",
    "def fatorial(num, show=False):\n",
    "    aux = 1\n",
    "    operacoes = ''\n",
    "    for c in range(num, 0, -1):\n",
    "        aux *= c\n",
    "        if c == 1:\n",
    "            operacoes += str(c) + ' = ' + str(aux)\n",
    "        else:\n",
    "            operacoes += str(c) + ' x '\n",
    "\n",
    "    if show == True:\n",
    "        return operacoes\n",
    "    else:\n",
    "        return aux\n",
    "\n",
    "        \n",
    "\n",
    "\n",
    "print(fatorial(5))\n"
   ]
  },
  {
   "cell_type": "code",
   "execution_count": 39,
   "metadata": {},
   "outputs": [
    {
     "name": "stdout",
     "output_type": "stream",
     "text": [
      "O jogador <desconhecido> fez 0 gol(s)!\n"
     ]
    }
   ],
   "source": [
    "# Faça um programa que tenha uma função chamada ficha(), que receba dois parâmetros opcionais: o nome de um jogador\n",
    "# e quantos gols ele marcou. O programa deverá ser capaz de mostrar a ficha do jogador, mesmo que algum dado não tenha\n",
    "# sido informado corretamente.\n",
    "\n",
    "def ficha(jogador = '<desconhecido>' , gols=0):\n",
    "    print(f'O jogador {jogador} fez {gols} gol(s)!')\n",
    "\n",
    "jog = input('Qual o nome do Jogador? ')\n",
    "gol = input('Quantos gols ele fez? ')\n",
    "\n",
    "if gol.isnumeric():\n",
    "    gol = int(gol)\n",
    "else:\n",
    "    gol = 0\n",
    "if jog.strip() == '':\n",
    "    ficha(gols=gol)\n",
    "else:\n",
    "    ficha(jog, gol)\n",
    "\n"
   ]
  },
  {
   "cell_type": "code",
   "execution_count": 43,
   "metadata": {},
   "outputs": [
    {
     "name": "stdout",
     "output_type": "stream",
     "text": [
      "Você acabou de digitar o número 3\n"
     ]
    }
   ],
   "source": [
    "# Crie um programa que tenha a função leiaInt(), que vai funcionar de forma semelhante à função\n",
    "# input() do Python, só que fazendo a validação para aceitar apenas um valor numérico.\n",
    "\n",
    "def leiaInt(num):\n",
    "    while True:\n",
    "        if num.isnumeric():\n",
    "            print(f'Você acabou de digitar o número {num}')\n",
    "            break\n",
    "        else:\n",
    "            num = input('ERRO! Digite um número inteiro: ')\n",
    "\n",
    "valor = input('Digite um número: ')\n",
    "leiaInt(valor)"
   ]
  },
  {
   "cell_type": "code",
   "execution_count": 47,
   "metadata": {},
   "outputs": [
    {
     "name": "stdout",
     "output_type": "stream",
     "text": [
      "{'total': 3, 'maior': 5.5, 'menor': 1.5, 'média': 3.1666666666666665, 'situação': 'Reprovado'}\n"
     ]
    }
   ],
   "source": [
    "# Faça um programa que tenha uma função notas() que pode receber várias notas de alunos e vai\n",
    "# retornar um dicionário com as seguintes informações:\n",
    "    # Quantidade de notas\n",
    "    # A maior nota\n",
    "    # A menor nota\n",
    "    # A média da turma\n",
    "    # A situação \n",
    "\n",
    "def notas(*n, sit=False):\n",
    "    r = dict()\n",
    "    r['total'] = len(n)\n",
    "    r['maior'] = max(n)\n",
    "    r['menor'] = min(n)\n",
    "    r['média'] = sum(n)/len(n)\n",
    "    if sit:\n",
    "        if r['média'] >= 7:\n",
    "            r['situação'] = 'Aprovado'\n",
    "        elif r['média'] >= 5 and r['média'] < 7:\n",
    "            r['situação'] = 'Recuperação'\n",
    "        else:\n",
    "            r['situação'] = 'Reprovado'\n",
    "    return r\n",
    "\n",
    "resp = notas(5.5, 2.5, 1.5, sit=True)\n",
    "print(resp)"
   ]
  },
  {
   "cell_type": "code",
   "execution_count": 48,
   "metadata": {},
   "outputs": [
    {
     "name": "stdout",
     "output_type": "stream",
     "text": [
      "---------------------------\n",
      "   SISTEMA DE AJUDA PyHELP\n",
      "---------------------------\n",
      "-------------------------------------\n",
      "   Acessando o manual do comando LEN\n",
      "-------------------------------------\n",
      "No Python documentation found for 'LEN'.\n",
      "Use help() to get the interactive help utility.\n",
      "Use help(str) for help on the str class.\n",
      "\n",
      "---------------------------\n",
      "   SISTEMA DE AJUDA PyHELP\n",
      "---------------------------\n",
      "------------\n",
      "   ATÉ LOGO\n",
      "------------\n"
     ]
    }
   ],
   "source": [
    "def ajuda(com):\n",
    "    titulo(f'Acessando o manual do comando {com}')\n",
    "    help(com)\n",
    "\n",
    "def titulo(msg):\n",
    "    tam = len(msg) + 4\n",
    "    print('-'*tam)\n",
    "    print(f'   {msg}')\n",
    "    print('-'*tam)\n",
    "\n",
    "comando = ''\n",
    "while True:\n",
    "    titulo('SISTEMA DE AJUDA PyHELP')\n",
    "    comando = input('Função ou Biblioteca > ')\n",
    "    if comando.upper() == 'FIM':\n",
    "        break\n",
    "    else:\n",
    "        ajuda(comando)\n",
    "titulo('ATÉ LOGO')"
   ]
  },
  {
   "cell_type": "code",
   "execution_count": null,
   "metadata": {},
   "outputs": [],
   "source": []
  }
 ],
 "metadata": {
  "kernelspec": {
   "display_name": "Python 3.10.2 64-bit",
   "language": "python",
   "name": "python3"
  },
  "language_info": {
   "codemirror_mode": {
    "name": "ipython",
    "version": 3
   },
   "file_extension": ".py",
   "mimetype": "text/x-python",
   "name": "python",
   "nbconvert_exporter": "python",
   "pygments_lexer": "ipython3",
   "version": "3.10.2"
  },
  "orig_nbformat": 4,
  "vscode": {
   "interpreter": {
    "hash": "369f2c481f4da34e4445cda3fffd2e751bd1c4d706f27375911949ba6bb62e1c"
   }
  }
 },
 "nbformat": 4,
 "nbformat_minor": 2
}
